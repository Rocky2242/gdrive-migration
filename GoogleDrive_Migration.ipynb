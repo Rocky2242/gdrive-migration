{
  "nbformat": 4,
  "nbformat_minor": 0,
  "metadata": {
    "colab": {
      "name": "GoogleDrive Migration.ipynb",
      "provenance": [],
      "collapsed_sections": [
        "zBwf5A5Wftc8"
      ],
      "authorship_tag": "ABX9TyOUuE8RDaZGNO7N3IBFsBo4",
      "include_colab_link": true
    },
    "kernelspec": {
      "name": "python3",
      "display_name": "Python 3"
    }
  },
  "cells": [
    {
      "cell_type": "markdown",
      "metadata": {
        "id": "view-in-github",
        "colab_type": "text"
      },
      "source": [
        "<a href=\"https://colab.research.google.com/github/alx-xlx/gdrive-migration/blob/master/GoogleDrive_Migration.ipynb\" target=\"_parent\"><img src=\"https://colab.research.google.com/assets/colab-badge.svg\" alt=\"Open In Colab\"/></a>"
      ]
    },
    {
      "cell_type": "markdown",
      "metadata": {
        "id": "lxTFXZi41jYa",
        "colab_type": "text"
      },
      "source": [
        "# **`#0`** Mount your Google Drive (**Important**)"
      ]
    },
    {
      "cell_type": "markdown",
      "metadata": {
        "id": "QKDEo3O42X5S",
        "colab_type": "text"
      },
      "source": [
        "**Mount**\n",
        "(Mandatory)"
      ]
    },
    {
      "cell_type": "code",
      "metadata": {
        "id": "KPDQawnG1Z0p",
        "colab_type": "code",
        "colab": {}
      },
      "source": [
        "from google.colab import drive\n",
        "drive.mount('/gdrive')"
      ],
      "execution_count": 0,
      "outputs": []
    },
    {
      "cell_type": "markdown",
      "metadata": {
        "id": "CgDOIoVu199J",
        "colab_type": "text"
      },
      "source": [
        "**Check Network Speed** (Optional)"
      ]
    },
    {
      "cell_type": "code",
      "metadata": {
        "id": "YSmUUwrp3b5D",
        "colab_type": "code",
        "colab": {}
      },
      "source": [
        "!curl -s https://raw.githubusercontent.com/sivel/speedtest-cli/master/speedtest.py | python -"
      ],
      "execution_count": 0,
      "outputs": []
    },
    {
      "cell_type": "markdown",
      "metadata": {
        "id": "AM_HAOnOem0v",
        "colab_type": "text"
      },
      "source": [
        "**Check IP** (Optional)"
      ]
    },
    {
      "cell_type": "code",
      "metadata": {
        "id": "zv47d4QTeluA",
        "colab_type": "code",
        "colab": {}
      },
      "source": [
        "!curl -s http://checkip.amazonaws.com"
      ],
      "execution_count": 0,
      "outputs": []
    },
    {
      "cell_type": "markdown",
      "metadata": {
        "id": "3AXweA-auoDX",
        "colab_type": "text"
      },
      "source": [
        "---\n",
        "---"
      ]
    },
    {
      "cell_type": "markdown",
      "metadata": {
        "colab_type": "text",
        "id": "csh-zappftKC"
      },
      "source": [
        "# **`#1`** Make a copy of Folder within **My Drive**"
      ]
    },
    {
      "cell_type": "markdown",
      "metadata": {
        "id": "QbW6PhaXiKSc",
        "colab_type": "text"
      },
      "source": [
        "### 1. Replace\n",
        "- **FOLDER_PATH** - path of folder you want to copy\n",
        "- **DESTINATION_PATH** - destination of the folder where you want to save the copy\n",
        "\n",
        "### 2. Run"
      ]
    },
    {
      "cell_type": "code",
      "metadata": {
        "id": "MGWDn6j3gc_o",
        "colab_type": "code",
        "colab": {}
      },
      "source": [
        "!cp -av '/gdrive/My Drive/FOLDER_PATH' '/gdrive/My Drive/DESTINATION_PATH"
      ],
      "execution_count": 0,
      "outputs": []
    },
    {
      "cell_type": "markdown",
      "metadata": {
        "id": "umRa9VGVuyLw",
        "colab_type": "text"
      },
      "source": [
        "---\n",
        "---"
      ]
    },
    {
      "cell_type": "markdown",
      "metadata": {
        "colab_type": "text",
        "id": "zBwf5A5Wftc8"
      },
      "source": [
        "# **`#2`** Make a copy of Folder within **Shared Drive**"
      ]
    },
    {
      "cell_type": "markdown",
      "metadata": {
        "id": "-QzSW_FTj1l1",
        "colab_type": "text"
      },
      "source": [
        "### 1. Run the below code to get the list of Shared Drives"
      ]
    },
    {
      "cell_type": "code",
      "metadata": {
        "id": "PsBlht1ojz3J",
        "colab_type": "code",
        "colab": {}
      },
      "source": [
        "!ls '/gdrive/Shared drives'"
      ],
      "execution_count": 0,
      "outputs": []
    },
    {
      "cell_type": "markdown",
      "metadata": {
        "colab_type": "text",
        "id": "7B3HfzF-kUkE"
      },
      "source": [
        "### 2. Replace \n",
        "\n",
        "*   TEAMDRIVE - your Shared Drive Name\n",
        "*   SOURCE_FOLDER - path of the Folder you want to copy\n",
        "*   DESTINATION_FOLDER - path of the Folder where you want to save the copy\n",
        "\n",
        "\n",
        "Example : \n",
        "\n",
        "```\n",
        "!cp -av '/gdrive/Shared drives/alex/testfolder' '/gdrive/Shared drives/alex/newfolder'\n",
        "```\n",
        "\n",
        "![alt text](https://i.imgur.com/DiHA39S.png)"
      ]
    },
    {
      "cell_type": "markdown",
      "metadata": {
        "id": "flvx0M6GvmLL",
        "colab_type": "text"
      },
      "source": [
        "### 3. Run"
      ]
    },
    {
      "cell_type": "code",
      "metadata": {
        "colab_type": "code",
        "id": "jc99JEuRkUkG",
        "colab": {}
      },
      "source": [
        "!cp -av '/gdrive/Shared drives/TEAMDRIVE/SOURCE_FOLDER' '/gdrive/Shared drives/TEAMDRIVE/DESTINATION_FOLDER'"
      ],
      "execution_count": 0,
      "outputs": []
    },
    {
      "cell_type": "markdown",
      "metadata": {
        "id": "s-nWHHPYu3aE",
        "colab_type": "text"
      },
      "source": [
        "---\n",
        "---"
      ]
    },
    {
      "cell_type": "markdown",
      "metadata": {
        "colab_type": "text",
        "id": "kl-_gj6Oft5g"
      },
      "source": [
        "# **`#3`** Copy a Folder from **My Drive** to **Shared Drive**"
      ]
    },
    {
      "cell_type": "markdown",
      "metadata": {
        "colab_type": "text",
        "id": "9qwzSm6wsjTG"
      },
      "source": [
        "### 1. Run the below code to get the list of ***Shared Drives***"
      ]
    },
    {
      "cell_type": "code",
      "metadata": {
        "colab_type": "code",
        "id": "3GNRHJ_XsjTI",
        "colab": {}
      },
      "source": [
        "!ls '/gdrive/Shared drives'"
      ],
      "execution_count": 0,
      "outputs": []
    },
    {
      "cell_type": "markdown",
      "metadata": {
        "colab_type": "text",
        "id": "Uwf0yenUsqof"
      },
      "source": [
        "### 2. Replace"
      ]
    },
    {
      "cell_type": "markdown",
      "metadata": {
        "colab_type": "text",
        "id": "O9BJopGMsqog"
      },
      "source": [
        "*   TEAMDRIVE - your Shared Drive Name\n",
        "*   FOLDER - path of the Folder you want to copy\n",
        "\n",
        "Example : \n",
        "\n",
        "```\n",
        "!cp -av '/gdrive/Shared drives/alex/testfolder' '/gdrive/My Drive/'\n",
        "```\n",
        "\n",
        "![alt text](https://i.imgur.com/DiHA39S.png)"
      ]
    },
    {
      "cell_type": "code",
      "metadata": {
        "colab_type": "code",
        "id": "cSeiP4Lgsqoh",
        "colab": {}
      },
      "source": [
        "!cp -av '/gdrive/My Drive/FOLDER' '/gdrive/Shared drives/TEAMDRIVE/' "
      ],
      "execution_count": 0,
      "outputs": []
    },
    {
      "cell_type": "markdown",
      "metadata": {
        "id": "edOfp9Ndu8fa",
        "colab_type": "text"
      },
      "source": [
        "---\n",
        "---"
      ]
    },
    {
      "cell_type": "markdown",
      "metadata": {
        "id": "g8mEjIQc3j3K",
        "colab_type": "text"
      },
      "source": [
        "# **`#4`** Copy a Folder from **Shared Drive** to **My Drive**"
      ]
    },
    {
      "cell_type": "markdown",
      "metadata": {
        "id": "u5chHrpJsIWo",
        "colab_type": "text"
      },
      "source": [
        "### 1. Run the below code to get the list of ***Shared Drives***\n",
        "##### Hidden Shared Drives won't be listed\n",
        "##### (You need to check in the my Drive dashboard for any Hidden Shared Drives)"
      ]
    },
    {
      "cell_type": "code",
      "metadata": {
        "id": "zQs2Gq383sIU",
        "colab_type": "code",
        "colab": {}
      },
      "source": [
        "!ls '/gdrive/Shared drives'"
      ],
      "execution_count": 0,
      "outputs": []
    },
    {
      "cell_type": "markdown",
      "metadata": {
        "id": "6on7RCTp8x-q",
        "colab_type": "text"
      },
      "source": [
        "### 2. Replace"
      ]
    },
    {
      "cell_type": "markdown",
      "metadata": {
        "id": "hRkajQfZsSzW",
        "colab_type": "text"
      },
      "source": [
        "*   TEAMDRIVE with your Shared Drive Name\n",
        "*   FOLDER with the path of the Folder you want to copy\n",
        "\n",
        "Example : \n",
        "\n",
        "```\n",
        "!cp -av '/gdrive/Shared drives/alex/testfolder' '/gdrive/My Drive/'\n",
        "```\n",
        "\n",
        "![alt text](https://i.imgur.com/DiHA39S.png)"
      ]
    },
    {
      "cell_type": "code",
      "metadata": {
        "id": "7RC_U2uQ3sBT",
        "colab_type": "code",
        "colab": {}
      },
      "source": [
        "!cp -av '/gdrive/Shared drives/TEAMDRIVE/FOLDER' '/gdrive/My Drive/'"
      ],
      "execution_count": 0,
      "outputs": []
    },
    {
      "cell_type": "markdown",
      "metadata": {
        "id": "8hn-EXIW555r",
        "colab_type": "text"
      },
      "source": [
        "# **`#5`** Copy a Folder from **Shared Drive#1** to **Shared Drive#2**"
      ]
    },
    {
      "cell_type": "markdown",
      "metadata": {
        "id": "HAGvwx7o6Lzt",
        "colab_type": "text"
      },
      "source": [
        "1. Run the below code to get the list of Shared Drives\n",
        "*(Hidden Shared Drives won't be listed)*"
      ]
    },
    {
      "cell_type": "code",
      "metadata": {
        "id": "5mgayuLC5vsF",
        "colab_type": "code",
        "colab": {}
      },
      "source": [
        "!ls '/gdrive/Shared drives'"
      ],
      "execution_count": 0,
      "outputs": []
    },
    {
      "cell_type": "markdown",
      "metadata": {
        "id": "NR6TGSl16U7D",
        "colab_type": "text"
      },
      "source": [
        "2. Replace\n",
        "- *`TEAMDRIVE_1`* with source Shared drive\n",
        "- *`TEAMDRIVE_2`* with destination Shared drive\n",
        "- *`FOLDER_1`* with source folder"
      ]
    },
    {
      "cell_type": "code",
      "metadata": {
        "id": "Tg6bcLrd8RJm",
        "colab_type": "code",
        "colab": {}
      },
      "source": [
        "!cp -av '/gdrive/Shared drives/TEAMDRIVE_1/FOLDER_1' '/gdrive/Shared drives/TEAMDRIVE_2'"
      ],
      "execution_count": 0,
      "outputs": []
    }
  ]
}